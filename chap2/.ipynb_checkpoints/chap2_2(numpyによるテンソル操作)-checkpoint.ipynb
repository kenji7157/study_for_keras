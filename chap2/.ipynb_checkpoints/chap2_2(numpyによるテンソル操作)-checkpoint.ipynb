{
 "cells": [
  {
   "cell_type": "code",
   "execution_count": 4,
   "metadata": {},
   "outputs": [
    {
     "name": "stdout",
     "output_type": "stream",
     "text": [
      "12\n",
      "0\n"
     ]
    }
   ],
   "source": [
    "# 0次元テンソル スカラー\n",
    "import numpy as np\n",
    "x = np.array(12)\n",
    "print(x)\n",
    "# ndim 次元数を返す\n",
    "print(x.ndim)"
   ]
  },
  {
   "cell_type": "code",
   "execution_count": 6,
   "metadata": {},
   "outputs": [
    {
     "name": "stdout",
     "output_type": "stream",
     "text": [
      "[12  3  6 14  7]\n",
      "1\n"
     ]
    }
   ],
   "source": [
    "# 1次元テンソル ベクトル\n",
    "x = np.array([12,3,6,14,7])\n",
    "print(x)\n",
    "# ndim 次元数を返す\n",
    "print(x.ndim)"
   ]
  },
  {
   "cell_type": "code",
   "execution_count": 9,
   "metadata": {},
   "outputs": [
    {
     "name": "stdout",
     "output_type": "stream",
     "text": [
      "[[12  3  6 14  7]\n",
      " [ 3  6  1 54 67]\n",
      " [12 43 56 54 43]]\n",
      "2\n",
      "(3, 5)\n"
     ]
    }
   ],
   "source": [
    "# 2次元テンソル 行列\n",
    "x = np.array([\n",
    "    [12,3,6,14,7],\n",
    "    [3,6,1,54,67],\n",
    "    [12,43,56,54,43],\n",
    "])\n",
    "print(x)\n",
    "# ndim 次元数を返す\n",
    "print(x.ndim)\n",
    "print(x.shape)"
   ]
  },
  {
   "cell_type": "code",
   "execution_count": 12,
   "metadata": {},
   "outputs": [
    {
     "name": "stdout",
     "output_type": "stream",
     "text": [
      "3\n",
      "(3, 3, 5)\n"
     ]
    }
   ],
   "source": [
    "# 3次元テンソル\n",
    "x = np.array([\n",
    "    [[12,3,6,14,7],\n",
    "      [3,6,1,54,67],\n",
    "      [12,43,56,54,43]],\n",
    "    [[12,3,6,14,7],\n",
    "      [3,6,1,54,67],\n",
    "      [12,43,56,54,43]],\n",
    "    [[12,3,6,14,7],\n",
    "      [3,6,1,54,67],\n",
    "      [12,43,56,54,43]]\n",
    "])\n",
    "# ndim 次元数を返す\n",
    "print(x.ndim)\n",
    "print(x.shape)"
   ]
  },
  {
   "cell_type": "code",
   "execution_count": 17,
   "metadata": {},
   "outputs": [
    {
     "name": "stdout",
     "output_type": "stream",
     "text": [
      "3\n",
      "(60000, 28, 28)\n",
      "uint8\n"
     ]
    }
   ],
   "source": [
    "# MNISTのデータセットを使ってテンソルを理解する\n",
    "from keras.datasets import mnist\n",
    "(train_img, train_label), (test_img, test_label) = mnist.load_data()\n",
    "\n",
    "# 画像データは60000個のサンプルデータをもつ\n",
    "# ひとつひとつのサンプルの形状は28×28の画像データ\n",
    "print(train_img.ndim)\n",
    "print(train_img.shape)\n",
    "print(train_img.dtype)"
   ]
  },
  {
   "cell_type": "code",
   "execution_count": 20,
   "metadata": {},
   "outputs": [
    {
     "data": {
      "image/png": "[encoded data removed]",
      "text/plain": [
       "<Figure size 432x288 with 1 Axes>"
      ]
     },
     "metadata": {
      "needs_background": "light"
     },
     "output_type": "display_data"
    }
   ],
   "source": [
    "# mnistデータの表示\n",
    "digit = train_img[4]\n",
    "\n",
    "import matplotlib.pyplot as plt\n",
    "plt.imshow(digit, cmap=plt.cm.binary)\n",
    "plt.show()"
   ]
  },
  {
   "cell_type": "code",
   "execution_count": 22,
   "metadata": {},
   "outputs": [
    {
     "data": {
      "text/plain": [
       "(90, 28, 28)"
      ]
     },
     "execution_count": 22,
     "metadata": {},
     "output_type": "execute_result"
    }
   ],
   "source": [
    "# numpyでのテンソル操作\n",
    "\n",
    "# 訓練データから10~100番目のサンプルを抽出\n",
    "my_slice = train_img[10:100]\n",
    "my_slice.shape"
   ]
  },
  {
   "cell_type": "code",
   "execution_count": 27,
   "metadata": {},
   "outputs": [
    {
     "data": {
      "image/png": "[encoded data removed]",
      "text/plain": [
       "<Figure size 432x288 with 1 Axes>"
      ]
     },
     "metadata": {
      "needs_background": "light"
     },
     "output_type": "display_data"
    }
   ],
   "source": [
    "# より複雑なスライス\n",
    "\n",
    "# 4番目のサンプルの一部分を切り取る\n",
    "digit = train_img[4, 0:20, 0:20]\n",
    "\n",
    "plt.imshow(digit, cmap=plt.cm.binary)\n",
    "plt.show()"
   ]
  }
 ],
 "metadata": {
  "kernelspec": {
   "display_name": "Python 3",
   "language": "python",
   "name": "python3"
  },
  "language_info": {
   "codemirror_mode": {
    "name": "ipython",
    "version": 3
   },
   "file_extension": ".py",
   "mimetype": "text/x-python",
   "name": "python",
   "nbconvert_exporter": "python",
   "pygments_lexer": "ipython3",
   "version": "3.6.8"
  }
 },
 "nbformat": 4,
 "nbformat_minor": 4
}
