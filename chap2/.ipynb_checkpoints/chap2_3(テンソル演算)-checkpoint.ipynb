{
 "cells": [
  {
   "cell_type": "code",
   "execution_count": 1,
   "metadata": {},
   "outputs": [
    {
     "name": "stdout",
     "output_type": "stream",
     "text": [
      "shapeの確認\n",
      " (3, 5)\n",
      "ReLU演算\n",
      " [[12  3  6 14  7]\n",
      " [ 3  6  1 54  0]\n",
      " [12 43 56 54 43]]\n"
     ]
    }
   ],
   "source": [
    "# ReLU演算の確認\n",
    "\n",
    "import numpy as np\n",
    "# 2次元テンソル 行列\n",
    "x = np.array([\n",
    "    [12,3,6,14,7],\n",
    "    [3,6,1,54,-67],\n",
    "    [12,43,56,54,43],\n",
    "])\n",
    "\n",
    "print('shapeの確認\\n', x.shape)\n",
    "\n",
    "def native_relu(x):\n",
    "    assert len(x.shape) == 2, ''\n",
    "    x = x.copy()\n",
    "    for i in range(x.shape[0]):\n",
    "        for j in range(x.shape[1]):\n",
    "            x[i, j] = max(x[i, j], 0)\n",
    "    return x\n",
    "\n",
    "print('ReLU演算\\n', native_relu(x))"
   ]
  },
  {
   "cell_type": "code",
   "execution_count": 2,
   "metadata": {},
   "outputs": [
    {
     "name": "stdout",
     "output_type": "stream",
     "text": [
      "(2, 3)\n",
      "(3,)\n",
      "[11 17]\n"
     ]
    }
   ],
   "source": [
    "# 行列とベクトルの内積\n",
    "\n",
    "# 行列(2次元テンソル)\n",
    "x = np.array([\n",
    "    [1,2,3],\n",
    "    [3,6,1]\n",
    "])\n",
    "\n",
    "print(x.shape)\n",
    "# ベクトル(1次元テンソル)\n",
    "y = np.array([1,2,2])\n",
    "print(y.shape)\n",
    "\n",
    "z = np.dot(x,y)\n",
    "print(z)\n",
    "\n",
    "# ベクトル・行列の内積は求めることができない\n",
    "# zr = np.dot(y,x)\n",
    "# print(zr)"
   ]
  },
  {
   "cell_type": "code",
   "execution_count": 3,
   "metadata": {},
   "outputs": [
    {
     "name": "stdout",
     "output_type": "stream",
     "text": [
      "[[13 26]\n",
      " [23 46]]\n"
     ]
    }
   ],
   "source": [
    "# 行列同士の内積\n",
    "\n",
    "# 行列(2次元テンソル)\n",
    "x = np.array([\n",
    "    [1,2,3],\n",
    "    [3,6,1]\n",
    "])\n",
    "\n",
    "y = np.array([\n",
    "    [1,2],\n",
    "    [3,6],\n",
    "    [2,4]\n",
    "])\n",
    "\n",
    "z = np.dot(x,y)\n",
    "print(z)\n",
    "\n",
    "# 手での求め方は同じだが求めることはできない\n",
    "# zr = x * y\n",
    "# print(zr)"
   ]
  },
  {
   "cell_type": "code",
   "execution_count": 4,
   "metadata": {},
   "outputs": [
    {
     "name": "stdout",
     "output_type": "stream",
     "text": [
      "[[0 1]\n",
      " [2 3]\n",
      " [4 5]]\n",
      "(3, 2)\n"
     ]
    }
   ],
   "source": [
    "# テンソルの変形\n",
    "x = np.array([\n",
    "    [0, 1],\n",
    "    [2,3],\n",
    "    [4,5]\n",
    "])\n",
    "print(x)\n",
    "print(x.shape)"
   ]
  },
  {
   "cell_type": "code",
   "execution_count": 5,
   "metadata": {},
   "outputs": [
    {
     "name": "stdout",
     "output_type": "stream",
     "text": [
      "[[0]\n",
      " [1]\n",
      " [2]\n",
      " [3]\n",
      " [4]\n",
      " [5]]\n",
      "(6, 1)\n"
     ]
    }
   ],
   "source": [
    "x = x.reshape((6,1))\n",
    "print(x)\n",
    "print(x.shape)"
   ]
  },
  {
   "cell_type": "code",
   "execution_count": 6,
   "metadata": {},
   "outputs": [
    {
     "name": "stdout",
     "output_type": "stream",
     "text": [
      "[[0 2 4]\n",
      " [1 3 5]]\n",
      "(2, 3)\n"
     ]
    }
   ],
   "source": [
    "# 転置行列の算出\n",
    "x = np.array([\n",
    "    [0, 1],\n",
    "    [2,3],\n",
    "    [4,5]\n",
    "])\n",
    "x = np.transpose(x)\n",
    "print(x)\n",
    "print(x.shape)"
   ]
  }
 ],
 "metadata": {
  "kernelspec": {
   "display_name": "Python 3",
   "language": "python",
   "name": "python3"
  },
  "language_info": {
   "codemirror_mode": {
    "name": "ipython",
    "version": 3
   },
   "file_extension": ".py",
   "mimetype": "text/x-python",
   "name": "python",
   "nbconvert_exporter": "python",
   "pygments_lexer": "ipython3",
   "version": "3.6.8"
  }
 },
 "nbformat": 4,
 "nbformat_minor": 4
}
